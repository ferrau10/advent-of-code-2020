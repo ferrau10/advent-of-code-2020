{
 "cells": [
  {
   "cell_type": "code",
   "execution_count": 5,
   "metadata": {},
   "outputs": [],
   "source": [
    "import pandas as pd"
   ]
  },
  {
   "cell_type": "markdown",
   "metadata": {},
   "source": [
    "# Part 1"
   ]
  },
  {
   "cell_type": "code",
   "execution_count": 40,
   "metadata": {},
   "outputs": [],
   "source": [
    "data = pd.read_csv('input.csv', header=None)"
   ]
  },
  {
   "cell_type": "code",
   "execution_count": 41,
   "metadata": {
    "scrolled": true
   },
   "outputs": [
    {
     "data": {
      "text/html": [
       "<div>\n",
       "<style scoped>\n",
       "    .dataframe tbody tr th:only-of-type {\n",
       "        vertical-align: middle;\n",
       "    }\n",
       "\n",
       "    .dataframe tbody tr th {\n",
       "        vertical-align: top;\n",
       "    }\n",
       "\n",
       "    .dataframe thead th {\n",
       "        text-align: right;\n",
       "    }\n",
       "</style>\n",
       "<table border=\"1\" class=\"dataframe\">\n",
       "  <thead>\n",
       "    <tr style=\"text-align: right;\">\n",
       "      <th></th>\n",
       "      <th>0</th>\n",
       "    </tr>\n",
       "  </thead>\n",
       "  <tbody>\n",
       "    <tr>\n",
       "      <th>0</th>\n",
       "      <td>1028</td>\n",
       "    </tr>\n",
       "    <tr>\n",
       "      <th>1</th>\n",
       "      <td>1987</td>\n",
       "    </tr>\n",
       "    <tr>\n",
       "      <th>2</th>\n",
       "      <td>1938</td>\n",
       "    </tr>\n",
       "    <tr>\n",
       "      <th>3</th>\n",
       "      <td>1136</td>\n",
       "    </tr>\n",
       "    <tr>\n",
       "      <th>4</th>\n",
       "      <td>1503</td>\n",
       "    </tr>\n",
       "    <tr>\n",
       "      <th>...</th>\n",
       "      <td>...</td>\n",
       "    </tr>\n",
       "    <tr>\n",
       "      <th>195</th>\n",
       "      <td>1967</td>\n",
       "    </tr>\n",
       "    <tr>\n",
       "      <th>196</th>\n",
       "      <td>1098</td>\n",
       "    </tr>\n",
       "    <tr>\n",
       "      <th>197</th>\n",
       "      <td>1287</td>\n",
       "    </tr>\n",
       "    <tr>\n",
       "      <th>198</th>\n",
       "      <td>1392</td>\n",
       "    </tr>\n",
       "    <tr>\n",
       "      <th>199</th>\n",
       "      <td>1932</td>\n",
       "    </tr>\n",
       "  </tbody>\n",
       "</table>\n",
       "<p>200 rows × 1 columns</p>\n",
       "</div>"
      ],
      "text/plain": [
       "        0\n",
       "0    1028\n",
       "1    1987\n",
       "2    1938\n",
       "3    1136\n",
       "4    1503\n",
       "..    ...\n",
       "195  1967\n",
       "196  1098\n",
       "197  1287\n",
       "198  1392\n",
       "199  1932\n",
       "\n",
       "[200 rows x 1 columns]"
      ]
     },
     "execution_count": 41,
     "metadata": {},
     "output_type": "execute_result"
    }
   ],
   "source": [
    "data "
   ]
  },
  {
   "cell_type": "code",
   "execution_count": 29,
   "metadata": {},
   "outputs": [],
   "source": [
    "test = [1721, 979, 366, 299, 675, 1456]"
   ]
  },
  {
   "cell_type": "code",
   "execution_count": 19,
   "metadata": {},
   "outputs": [
    {
     "data": {
      "text/plain": [
       "6"
      ]
     },
     "execution_count": 19,
     "metadata": {},
     "output_type": "execute_result"
    }
   ],
   "source": [
    "len(test)"
   ]
  },
  {
   "cell_type": "code",
   "execution_count": 20,
   "metadata": {},
   "outputs": [
    {
     "data": {
      "text/plain": [
       "979"
      ]
     },
     "execution_count": 20,
     "metadata": {},
     "output_type": "execute_result"
    }
   ],
   "source": [
    "test[1]"
   ]
  },
  {
   "cell_type": "code",
   "execution_count": 21,
   "metadata": {},
   "outputs": [
    {
     "data": {
      "text/plain": [
       "1456"
      ]
     },
     "execution_count": 21,
     "metadata": {},
     "output_type": "execute_result"
    }
   ],
   "source": [
    "test.pop()"
   ]
  },
  {
   "cell_type": "code",
   "execution_count": 22,
   "metadata": {},
   "outputs": [
    {
     "data": {
      "text/plain": [
       "[1721, 979, 366, 299, 675]"
      ]
     },
     "execution_count": 22,
     "metadata": {},
     "output_type": "execute_result"
    }
   ],
   "source": [
    "test "
   ]
  },
  {
   "cell_type": "code",
   "execution_count": 31,
   "metadata": {},
   "outputs": [],
   "source": [
    "for i in range(len(test) - 1):\n",
    "    number = test.pop()\n",
    "    \n",
    "    for i in range(len(test)-1):\n",
    "        if number + test[i] == 2020:\n",
    "            result = testarr[i] * number"
   ]
  },
  {
   "cell_type": "code",
   "execution_count": 32,
   "metadata": {},
   "outputs": [
    {
     "data": {
      "text/plain": [
       "514579"
      ]
     },
     "execution_count": 32,
     "metadata": {},
     "output_type": "execute_result"
    }
   ],
   "source": [
    "result "
   ]
  },
  {
   "cell_type": "code",
   "execution_count": 45,
   "metadata": {},
   "outputs": [],
   "source": [
    "input_list = data[0].to_list()"
   ]
  },
  {
   "cell_type": "code",
   "execution_count": 50,
   "metadata": {},
   "outputs": [
    {
     "name": "stdout",
     "output_type": "stream",
     "text": [
      "CPU times: user 2.92 ms, sys: 1 µs, total: 2.92 ms\n",
      "Wall time: 2.93 ms\n"
     ]
    }
   ],
   "source": [
    "%%time \n",
    "for i in range(len(input_list) - 1):\n",
    "    number = input_list.pop()\n",
    "    \n",
    "    for i in range(len(input_list)-1):\n",
    "        if number + input_list[i] == 2020:\n",
    "            result = input_list[i] * number"
   ]
  },
  {
   "cell_type": "code",
   "execution_count": 51,
   "metadata": {},
   "outputs": [
    {
     "data": {
      "text/plain": [
       "1018336"
      ]
     },
     "execution_count": 51,
     "metadata": {},
     "output_type": "execute_result"
    }
   ],
   "source": [
    "result "
   ]
  },
  {
   "cell_type": "markdown",
   "metadata": {},
   "source": [
    "# Part 2"
   ]
  },
  {
   "cell_type": "code",
   "execution_count": 91,
   "metadata": {},
   "outputs": [],
   "source": [
    "test2 = [1721, 979, 366, 299, 1456, 675]"
   ]
  },
  {
   "cell_type": "code",
   "execution_count": 99,
   "metadata": {},
   "outputs": [],
   "source": [
    "for i in range(len(test2) - 2):\n",
    "    number = test2.pop()\n",
    "    \n",
    "    for i in range(len(test2)-2):\n",
    "        number2 = test2[i]\n",
    "        for j in range(len(test2) -1): \n",
    "            if number + number2 + test2[j] == 2020:\n",
    "                result2 = test2[i] * number2 * number "
   ]
  },
  {
   "cell_type": "code",
   "execution_count": 98,
   "metadata": {
    "scrolled": true
   },
   "outputs": [
    {
     "data": {
      "text/plain": [
       "241861950"
      ]
     },
     "execution_count": 98,
     "metadata": {},
     "output_type": "execute_result"
    }
   ],
   "source": [
    "result2"
   ]
  },
  {
   "cell_type": "code",
   "execution_count": 103,
   "metadata": {},
   "outputs": [],
   "source": [
    "input_list2 = data[0].to_list()"
   ]
  },
  {
   "cell_type": "code",
   "execution_count": 82,
   "metadata": {
    "collapsed": true
   },
   "outputs": [
    {
     "data": {
      "text/plain": [
       "[1028,\n",
       " 1987,\n",
       " 1938,\n",
       " 1136,\n",
       " 1503,\n",
       " 1456,\n",
       " 1107,\n",
       " 1535,\n",
       " 1946,\n",
       " 1986,\n",
       " 855,\n",
       " 1587,\n",
       " 1632,\n",
       " 1548,\n",
       " 1384,\n",
       " 1894,\n",
       " 1092,\n",
       " 1876,\n",
       " 1914,\n",
       " 1974,\n",
       " 1662,\n",
       " 1608,\n",
       " 2004,\n",
       " 1464,\n",
       " 1557,\n",
       " 1485,\n",
       " 1267,\n",
       " 1582,\n",
       " 1307,\n",
       " 1903,\n",
       " 1102,\n",
       " 1578,\n",
       " 1421,\n",
       " 1184,\n",
       " 1290,\n",
       " 1786,\n",
       " 1295,\n",
       " 1930,\n",
       " 1131,\n",
       " 1802,\n",
       " 1685,\n",
       " 1735,\n",
       " 1498,\n",
       " 1052,\n",
       " 1688,\n",
       " 990,\n",
       " 1805,\n",
       " 1768,\n",
       " 1922,\n",
       " 1781,\n",
       " 1897,\n",
       " 1545,\n",
       " 1591,\n",
       " 1393,\n",
       " 1186,\n",
       " 149,\n",
       " 1619,\n",
       " 1813,\n",
       " 1708,\n",
       " 1119,\n",
       " 1214,\n",
       " 1705,\n",
       " 1942,\n",
       " 1684,\n",
       " 1460,\n",
       " 1123,\n",
       " 1439,\n",
       " 1672,\n",
       " 1980,\n",
       " 1337,\n",
       " 1731,\n",
       " 1203,\n",
       " 1481,\n",
       " 2009,\n",
       " 1110,\n",
       " 1116,\n",
       " 1443,\n",
       " 1957,\n",
       " 1891,\n",
       " 1595,\n",
       " 1951,\n",
       " 1883,\n",
       " 1733,\n",
       " 1697,\n",
       " 1321,\n",
       " 1689,\n",
       " 1103,\n",
       " 1300,\n",
       " 1262,\n",
       " 1190,\n",
       " 1667,\n",
       " 1843,\n",
       " 1544,\n",
       " 1877,\n",
       " 1718,\n",
       " 1866,\n",
       " 1929,\n",
       " 1169,\n",
       " 1693,\n",
       " 1518,\n",
       " 1375,\n",
       " 1477,\n",
       " 1222,\n",
       " 1791,\n",
       " 1612,\n",
       " 1373,\n",
       " 1253,\n",
       " 1087,\n",
       " 1959,\n",
       " 1970,\n",
       " 1112,\n",
       " 1778,\n",
       " 1412,\n",
       " 1127,\n",
       " 1767,\n",
       " 1091,\n",
       " 1653,\n",
       " 1609,\n",
       " 1810,\n",
       " 1912,\n",
       " 1917,\n",
       " 935,\n",
       " 1499,\n",
       " 1878,\n",
       " 1452,\n",
       " 1935,\n",
       " 1937,\n",
       " 968,\n",
       " 1905,\n",
       " 1077,\n",
       " 1701,\n",
       " 1789,\n",
       " 1506,\n",
       " 1451,\n",
       " 1125,\n",
       " 1686,\n",
       " 1117,\n",
       " 1991,\n",
       " 1215,\n",
       " 1776,\n",
       " 1976,\n",
       " 846,\n",
       " 1923,\n",
       " 1945,\n",
       " 1888,\n",
       " 1193,\n",
       " 1146,\n",
       " 1583,\n",
       " 1315,\n",
       " 1372,\n",
       " 1963,\n",
       " 1491,\n",
       " 1777,\n",
       " 1799,\n",
       " 1363,\n",
       " 1579,\n",
       " 1367,\n",
       " 1863,\n",
       " 1983,\n",
       " 1679,\n",
       " 1944,\n",
       " 1654,\n",
       " 1953,\n",
       " 1297,\n",
       " 530,\n",
       " 1502,\n",
       " 1738,\n",
       " 1934,\n",
       " 1185,\n",
       " 1998,\n",
       " 1764,\n",
       " 1856,\n",
       " 1207,\n",
       " 1181,\n",
       " 1494,\n",
       " 1676,\n",
       " 1900,\n",
       " 1057,\n",
       " 339,\n",
       " 1994,\n",
       " 2006,\n",
       " 1536,\n",
       " 2007,\n",
       " 644,\n",
       " 1173,\n",
       " 1692,\n",
       " 1493,\n",
       " 1756,\n",
       " 1916,\n",
       " 1890,\n",
       " 1908,\n",
       " 1887,\n",
       " 1241,\n",
       " 1447,\n",
       " 1997,\n",
       " 1967,\n",
       " 1098,\n",
       " 1287,\n",
       " 1392,\n",
       " 1932]"
      ]
     },
     "execution_count": 82,
     "metadata": {},
     "output_type": "execute_result"
    }
   ],
   "source": [
    "input_list2"
   ]
  },
  {
   "cell_type": "code",
   "execution_count": 104,
   "metadata": {},
   "outputs": [
    {
     "name": "stdout",
     "output_type": "stream",
     "text": [
      "CPU times: user 495 ms, sys: 4.22 ms, total: 499 ms\n",
      "Wall time: 504 ms\n"
     ]
    }
   ],
   "source": [
    "%%time \n",
    "for i in range(len(input_list2) - 2):\n",
    "    number = input_list2.pop()\n",
    "\n",
    "    for i in range(len(input_list2)-2):\n",
    "        number2 = input_list2[i]\n",
    "        for j in range(len(input_list2) -1): \n",
    "            if number + number2 + input_list2[j] == 2020:\n",
    "                result3 = input_list2[j] * number2 * number "
   ]
  },
  {
   "cell_type": "code",
   "execution_count": 105,
   "metadata": {},
   "outputs": [
    {
     "data": {
      "text/plain": [
       "288756720"
      ]
     },
     "execution_count": 105,
     "metadata": {},
     "output_type": "execute_result"
    }
   ],
   "source": [
    "result3"
   ]
  },
  {
   "cell_type": "code",
   "execution_count": 71,
   "metadata": {},
   "outputs": [
    {
     "data": {
      "text/plain": [
       "[1028]"
      ]
     },
     "execution_count": 71,
     "metadata": {},
     "output_type": "execute_result"
    }
   ],
   "source": [
    "input_list2"
   ]
  },
  {
   "cell_type": "code",
   "execution_count": null,
   "metadata": {},
   "outputs": [],
   "source": []
  }
 ],
 "metadata": {
  "kernelspec": {
   "display_name": "Python 3",
   "language": "python",
   "name": "python3"
  },
  "language_info": {
   "codemirror_mode": {
    "name": "ipython",
    "version": 3
   },
   "file_extension": ".py",
   "mimetype": "text/x-python",
   "name": "python",
   "nbconvert_exporter": "python",
   "pygments_lexer": "ipython3",
   "version": "3.7.6"
  },
  "toc": {
   "base_numbering": 1,
   "nav_menu": {},
   "number_sections": true,
   "sideBar": true,
   "skip_h1_title": false,
   "title_cell": "Table of Contents",
   "title_sidebar": "Contents",
   "toc_cell": false,
   "toc_position": {},
   "toc_section_display": true,
   "toc_window_display": true
  },
  "varInspector": {
   "cols": {
    "lenName": 16,
    "lenType": 16,
    "lenVar": 40
   },
   "kernels_config": {
    "python": {
     "delete_cmd_postfix": "",
     "delete_cmd_prefix": "del ",
     "library": "var_list.py",
     "varRefreshCmd": "print(var_dic_list())"
    },
    "r": {
     "delete_cmd_postfix": ") ",
     "delete_cmd_prefix": "rm(",
     "library": "var_list.r",
     "varRefreshCmd": "cat(var_dic_list()) "
    }
   },
   "position": {
    "height": "145px",
    "left": "1430px",
    "right": "20px",
    "top": "121px",
    "width": "350px"
   },
   "types_to_exclude": [
    "module",
    "function",
    "builtin_function_or_method",
    "instance",
    "_Feature"
   ],
   "window_display": true
  }
 },
 "nbformat": 4,
 "nbformat_minor": 4
}
